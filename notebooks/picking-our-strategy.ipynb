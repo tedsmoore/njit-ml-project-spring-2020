{
 "cells": [
  {
   "cell_type": "code",
   "execution_count": 1,
   "outputs": [],
   "source": [
    "# The following code backtests some possible \"returns\" when implementing a strategy using the actual\n",
    "# future data to generate signals. We use the convention CrystalBallStrategy to remind us that these\n",
    "# strategies are only possible if we had a crystal ball to tell the future. It is our goal to find \n",
    "# one that proves to make money and that we can somewhat accurately predict.\n",
    "\n",
    "from copy import deepcopy\n",
    "import pandas as pd\n",
    "import numpy as np\n",
    "\n",
    "from src.features.build_features import StockTechnicals\n",
    "\n",
    "from src.models.backtest_strategy import TradeHoldStrategy"
   ],
   "metadata": {
    "collapsed": false,
    "pycharm": {
     "name": "#%%\n",
     "is_executing": false
    }
   }
  },
  {
   "cell_type": "code",
   "execution_count": 2,
   "outputs": [],
   "source": [
    "# load data using MSFT \n",
    "ticker = \"MSFT\"\n",
    "all_daily_data = pd.read_csv(f'/Users/ted/Documents/NJIT/675_MachineLearning/proj/njit-ml-project-spring-2020/data/{ticker}.csv')"
   ],
   "metadata": {
    "collapsed": false,
    "pycharm": {
     "name": "#%%\n",
     "is_executing": false
    }
   }
  },
  {
   "cell_type": "code",
   "execution_count": 3,
   "outputs": [
    {
     "name": "stderr",
     "text": [
      "/Users/ted/Library/Caches/pypoetry/virtualenvs/njit-ml-scratch-l36YVstm-py3.7/lib/python3.7/site-packages/ta/trend.py:567: RuntimeWarning: invalid value encountered in double_scalars\n",
      "  dip[i] = 100 * (self._dip[i]/self._trs[i])\n",
      "/Users/ted/Library/Caches/pypoetry/virtualenvs/njit-ml-scratch-l36YVstm-py3.7/lib/python3.7/site-packages/ta/trend.py:571: RuntimeWarning: invalid value encountered in double_scalars\n",
      "  din[i] = 100 * (self._din[i]/self._trs[i])\n"
     ],
     "output_type": "stream"
    }
   ],
   "source": [
    "# create a feature matrix and some labels using our handy StockTechnicals class\n",
    "# we will actually only need labels for this decision, as we're using observed data\n",
    "technicals = StockTechnicals(all_daily_data)\n",
    "# X = technicals.features[:-1]\n",
    "y = technicals.price_will_rise()[:-1]"
   ],
   "metadata": {
    "collapsed": false,
    "pycharm": {
     "name": "#%%\n",
     "is_executing": false
    }
   }
  },
  {
   "cell_type": "code",
   "execution_count": 4,
   "outputs": [],
   "source": [
    "### BACKTESTING ###\n",
    "# import a backtesting library\n",
    "from pyalgotrade.barfeed import yahoofeed\n",
    "from pyalgotrade.stratanalyzer import returns, trades"
   ],
   "metadata": {
    "collapsed": false,
    "pycharm": {
     "name": "#%%\n",
     "is_executing": false
    }
   }
  },
  {
   "cell_type": "code",
   "execution_count": 5,
   "outputs": [],
   "source": [
    "# build our backtesing feed using MSFT daily data\n",
    "base_feed = yahoofeed.Feed()\n",
    "base_feed.addBarsFromCSV(f\"{ticker}\", f'../data/{ticker}.csv')"
   ],
   "metadata": {
    "collapsed": false,
    "pycharm": {
     "name": "#%%\n",
     "is_executing": false
    }
   }
  },
  {
   "cell_type": "code",
   "execution_count": 6,
   "outputs": [],
   "source": [
    "# As a benchmark, we will buy 100 shares of MSFT on day one and hold. "
   ],
   "metadata": {
    "collapsed": false,
    "pycharm": {
     "name": "#%% \n",
     "is_executing": false
    }
   }
  },
  {
   "cell_type": "code",
   "execution_count": 7,
   "outputs": [],
   "source": [
    "# buy one share on day one and hold as a benchmark\n",
    "benchmark_feed = deepcopy(base_feed)\n",
    "benchmark_trades = np.ones(len(all_daily_data))\n",
    "benchmark_strat = TradeHoldStrategy(benchmark_feed, f'{ticker}', benchmark_trades)\n",
    "\n",
    "# performance metrics for strategy evaluation\n",
    "ret_analyzer = returns.Returns()\n",
    "benchmark_strat.attachAnalyzer(ret_analyzer)\n",
    "tradesAnalyzer = trades.Trades()\n",
    "benchmark_strat.attachAnalyzer(tradesAnalyzer)"
   ],
   "metadata": {
    "collapsed": false,
    "pycharm": {
     "name": "#%%\n",
     "is_executing": false
    }
   }
  },
  {
   "cell_type": "code",
   "execution_count": 8,
   "outputs": [
    {
     "name": "stdout",
     "text": [
      "Final portfolio increase: $13140.0\n",
      "Total trades: 0\n"
     ],
     "output_type": "stream"
    }
   ],
   "source": [
    "# backtest the strategy \n",
    "benchmark_strat.run()\n",
    "bmk_value = round(benchmark_strat.getResult() - 1000000, 2)\n",
    "print(f\"Final portfolio increase: ${bmk_value}\")\n",
    "print(f\"Total trades: {tradesAnalyzer.getCount()}\")"
   ],
   "metadata": {
    "collapsed": false,
    "pycharm": {
     "name": "#%%\n",
     "is_executing": false
    }
   }
  },
  {
   "cell_type": "code",
   "execution_count": 9,
   "outputs": [],
   "source": [
    "# Now let's backtest a strategy with the training labels we created in StockTechnicals. The strategy is\n",
    "# to BUY 100 shares if we predict the price will rise the following day and HOLD until we predict the\n",
    "# market will go down the following day, when we SELL 100 shares and wait until we predict another rise.\n",
    "# Note that there is some loss as we can't trade after-hours in our sim and open prices do not always\n",
    "# match closing prices, but it is still very good (results below)"
   ],
   "metadata": {
    "collapsed": false,
    "pycharm": {
     "name": "#%%\n",
     "is_executing": false
    }
   }
  },
  {
   "cell_type": "code",
   "execution_count": 10,
   "outputs": [],
   "source": [
    "perf_feed = deepcopy(base_feed)\n",
    "perf_trades = np.concatenate([np.zeros(len(all_daily_data) - len(y) - 1), y])\n",
    "perf_strat = TradeHoldStrategy(perf_feed, f'{ticker}', perf_trades)\n",
    "\n",
    "# performance metrics\n",
    "ret_analyzer = returns.Returns()\n",
    "perf_strat.attachAnalyzer(ret_analyzer)\n",
    "tradesAnalyzer = trades.Trades()\n",
    "perf_strat.attachAnalyzer(tradesAnalyzer)"
   ],
   "metadata": {
    "collapsed": false,
    "pycharm": {
     "name": "#%%\n",
     "is_executing": false
    }
   }
  },
  {
   "cell_type": "code",
   "execution_count": 11,
   "outputs": [
    {
     "name": "stdout",
     "text": [
      "Final portfolio increase: $67320.0\n",
      "Percentage gain v. buy-and-hold bmk: 412.3%\n",
      "Total trades: 778\n"
     ],
     "output_type": "stream"
    }
   ],
   "source": [
    "# backtest the strategy\n",
    "perf_strat.run()\n",
    "perf_strat_value = round(perf_strat.getResult() - 1000000, 2)\n",
    "print(f\"Final portfolio increase: ${perf_strat_value}\")\n",
    "perf_pct_improve = round((perf_strat_value / bmk_value - 1) * 100, 1)\n",
    "print(f\"Percentage gain v. buy-and-hold bmk: {perf_pct_improve}%\")\n",
    "print(\"Total trades: %d\" % (tradesAnalyzer.getCount()))\n"
   ],
   "metadata": {
    "collapsed": false,
    "pycharm": {
     "name": "#%%\n",
     "is_executing": false
    }
   }
  },
  {
   "cell_type": "code",
   "execution_count": 12,
   "outputs": [],
   "source": [
    "# As we can see, perfect execution of this strategy would improve our returns by over 400%\n",
    "# However daily stock movement is notoriously difficult to predict, so we'll explore another\n",
    "# strategy as well."
   ],
   "metadata": {
    "collapsed": false,
    "pycharm": {
     "name": "#%%\n",
     "is_executing": false
    }
   }
  },
  {
   "cell_type": "code",
   "execution_count": 13,
   "outputs": [],
   "source": [
    "# Backtest another strategy. This strategy is to to BUY 100 shares if we predict the N-day SMA will \n",
    "# be higher than the current stock price in N days, and HOLD until we predict the N-day SMA will be\n",
    "# lower than the current stock price in N days, when we SELL 100 shares and wait until we predict\n",
    "# another rise.\n",
    "N = 12\n",
    "\n",
    "# generate our labels using our StockTechnicals class\n",
    "y_sma = technicals.future_sma_higher_than_current_price(days=N)\n",
    "\n",
    "sma_feed = deepcopy(base_feed)\n",
    "sma_trades = np.concatenate([np.zeros(len(all_daily_data) - len(y_sma)), y_sma])\n",
    "sma_strat = TradeHoldStrategy(sma_feed, f'{ticker}', sma_trades)\n",
    "\n",
    "# performance metrics\n",
    "ret_analyzer = returns.Returns()\n",
    "sma_strat.attachAnalyzer(ret_analyzer)\n",
    "tradesAnalyzer = trades.Trades()\n",
    "sma_strat.attachAnalyzer(tradesAnalyzer)"
   ],
   "metadata": {
    "collapsed": false,
    "pycharm": {
     "name": "#%%\n",
     "is_executing": false
    }
   }
  },
  {
   "cell_type": "code",
   "execution_count": 14,
   "outputs": [
    {
     "name": "stdout",
     "text": [
      "Final portfolio increase: $45971.0\n",
      "Percentage gain v. buy-and-hold bmk: 249.9%\n",
      "Total trades: 241\n"
     ],
     "output_type": "stream"
    }
   ],
   "source": [
    "# run the N-day sma strategy\n",
    "sma_strat.run()\n",
    "sma_value = round(sma_strat.getResult() - 1000000, 2)\n",
    "print(f\"Final portfolio increase: ${sma_value}\")\n",
    "sma_pct_improve = round((sma_value / bmk_value - 1) * 100, 1)\n",
    "print(f\"Percentage gain v. buy-and-hold bmk: {sma_pct_improve}%\")\n",
    "print(\"Total trades: %d\" % (tradesAnalyzer.getCount()))\n"
   ],
   "metadata": {
    "collapsed": false,
    "pycharm": {
     "name": "#%%\n",
     "is_executing": false
    }
   }
  },
  {
   "cell_type": "code",
   "execution_count": 15,
   "outputs": [],
   "source": [
    "# As we can see with this strategy, the potential returns for this strategy are not as high, but \n",
    "# it's more conservative and likely a bit easier to predict as it's using a more general metrics\n",
    "# in the moving average rather than daily close data"
   ],
   "metadata": {
    "collapsed": false,
    "pycharm": {
     "name": "#%%\n",
     "is_executing": false
    }
   }
  }
 ],
 "metadata": {
  "kernelspec": {
   "display_name": "Python 3",
   "language": "python",
   "name": "python3"
  },
  "language_info": {
   "codemirror_mode": {
    "name": "ipython",
    "version": 2
   },
   "file_extension": ".py",
   "mimetype": "text/x-python",
   "name": "python",
   "nbconvert_exporter": "python",
   "pygments_lexer": "ipython2",
   "version": "2.7.6"
  },
  "pycharm": {
   "stem_cell": {
    "cell_type": "raw",
    "source": [],
    "metadata": {
     "collapsed": false
    }
   }
  }
 },
 "nbformat": 4,
 "nbformat_minor": 0
}