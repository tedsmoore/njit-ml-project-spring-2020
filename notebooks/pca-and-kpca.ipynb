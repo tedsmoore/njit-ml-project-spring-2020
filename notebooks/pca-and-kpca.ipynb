{
 "cells": [
  {
   "cell_type": "code",
   "execution_count": 1,
   "metadata": {
    "collapsed": true,
    "pycharm": {
     "is_executing": false
    }
   },
   "outputs": [],
   "source": [
    "import numpy as np\n",
    "import pandas as pd\n",
    "\n",
    "from sklearn.decomposition import KernelPCA, PCA\n",
    "from sklearn.preprocessing import StandardScaler\n",
    "from sklearn.model_selection import train_test_split\n",
    "from sklearn.linear_model import LogisticRegression\n",
    "from sklearn.metrics import accuracy_score, f1_score\n",
    "\n",
    "from src.features.build_features import StockTechnicals"
   ]
  },
  {
   "cell_type": "code",
   "execution_count": 2,
   "outputs": [],
   "source": [
    "# Load training data using MSFT\n",
    "train_ticker = \"MSFT\"\n",
    "all_msft_data = pd.read_csv(f'../data/{train_ticker}.csv')\n",
    "\n",
    "# number of future days for SMA to rise\n",
    "N = 26"
   ],
   "metadata": {
    "collapsed": false,
    "pycharm": {
     "name": "#%%\n",
     "is_executing": false
    }
   }
  },
  {
   "cell_type": "code",
   "execution_count": 3,
   "outputs": [
    {
     "name": "stderr",
     "text": [
      "/Users/ted/Library/Caches/pypoetry/virtualenvs/njit-ml-scratch-l36YVstm-py3.7/lib/python3.7/site-packages/ta/trend.py:567: RuntimeWarning: invalid value encountered in double_scalars\n",
      "  dip[i] = 100 * (self._dip[i]/self._trs[i])\n",
      "/Users/ted/Library/Caches/pypoetry/virtualenvs/njit-ml-scratch-l36YVstm-py3.7/lib/python3.7/site-packages/ta/trend.py:571: RuntimeWarning: invalid value encountered in double_scalars\n",
      "  din[i] = 100 * (self._din[i]/self._trs[i])\n"
     ],
     "output_type": "stream"
    }
   ],
   "source": [
    "technicals = StockTechnicals(all_msft_data)\n",
    "X = technicals.features\n",
    "y = technicals.future_sma_higher_than_current_price(N)\n",
    "\n",
    "# we don't have the last N days of data (they're in the future)\n",
    "y = y[~np.isnan(y)]\n",
    "X = X[:len(y)]"
   ],
   "metadata": {
    "collapsed": false,
    "pycharm": {
     "name": "#%%\n",
     "is_executing": false
    }
   }
  },
  {
   "cell_type": "code",
   "execution_count": 4,
   "outputs": [],
   "source": [
    "# limit to top features as determined by a RandomForest in feature-selection.ipnyb\n",
    "top_features = [\n",
    "    'trend_visual_ichimoku_b',\n",
    "    'volume_obv',\n",
    "    'volatility_kcw',\n",
    "    'volatility_atr',\n",
    "    'trend_mass_index',\n",
    "    'trend_kst_sig',\n",
    "    'volume_cmf',\n",
    "    'trend_adx',\n",
    "    'trend_macd_signal',\n",
    "    'volatility_bbw',\n",
    "    'trend_kst_diff',\n",
    "    'momentum_tsi',\n",
    "    'trend_macd_diff',\n",
    "]"
   ],
   "metadata": {
    "collapsed": false,
    "pycharm": {
     "name": "#%%\n",
     "is_executing": false
    }
   }
  },
  {
   "cell_type": "code",
   "execution_count": 5,
   "outputs": [],
   "source": [
    "# limit X to top features only\n",
    "X_top = X[top_features]\n",
    "X_train, X_test, y_train, y_test = train_test_split(X_top, y, random_state=2, stratify=y)\n",
    "sc = StandardScaler()\n",
    "X_train_std = sc.fit_transform(X_train)\n",
    "X_test_std = sc.transform(X_test)"
   ],
   "metadata": {
    "collapsed": false,
    "pycharm": {
     "name": "#%%\n",
     "is_executing": false
    }
   }
  },
  {
   "cell_type": "code",
   "execution_count": 6,
   "outputs": [
    {
     "name": "stdout",
     "text": [
      "Accuracy score: 0.6603518267929634\n",
      "F1-Score:       0.7756925826630919\n",
      "Accuracy score: 0.6495263870094723\n",
      "F1-Score:       0.7612903225806451\n",
      "Accuracy score: 0.6508795669824087\n",
      "F1-Score:       0.7575187969924813\n",
      "Accuracy score: 0.6549391069012178\n",
      "F1-Score:       0.7592067988668555\n",
      "Accuracy score: 0.6535859269282814\n",
      "F1-Score:       0.7580340264650283\n"
     ],
     "output_type": "stream"
    }
   ],
   "source": [
    "# run a logistic regression to get a benchmark performance on the top 13 features\n",
    "for c in [0.01, 0.1, 1.0, 10, 100]:\n",
    "    lr = LogisticRegression(C=c, random_state=2, solver='liblinear')\n",
    "    lr.fit(X_train_std, y_train)\n",
    "    y_pred = lr.predict(X_test_std)\n",
    "\n",
    "    print(f\"Accuracy score: {accuracy_score(y_test, y_pred)}\\n\"\n",
    "          f\"F1-Score:       {f1_score(y_test, y_pred)}\")\n",
    "    "
   ],
   "metadata": {
    "collapsed": false,
    "pycharm": {
     "name": "#%%\n",
     "is_executing": false
    }
   }
  },
  {
   "cell_type": "code",
   "execution_count": 7,
   "outputs": [],
   "source": [
    "# Limiting to the top 13 features achieves an accuracy very close to using all 69 (~65% v ~69%).\n",
    "# As an alternative, let's see what happens when reducing to 13 \"fake\" features using PCA "
   ],
   "metadata": {
    "collapsed": false,
    "pycharm": {
     "name": "#%%\n",
     "is_executing": false
    }
   }
  },
  {
   "cell_type": "code",
   "execution_count": 8,
   "outputs": [],
   "source": [
    "# set up test and train datasets using full X\n",
    "X_train, X_test, y_train, y_test = train_test_split(X, y, random_state=2, stratify=y)\n",
    "sc = StandardScaler()\n",
    "X_train_std = sc.fit_transform(X_train)\n",
    "X_test_std = sc.transform(X_test)\n",
    "\n",
    "# fit a pca with 13 \"fake\" attributes\n",
    "pca = PCA(13, random_state=1, tol=0.1)\n",
    "X_train_std_pca = pca.fit_transform(X_train_std)\n",
    "X_test_std_pca = pca.transform(X_test_std)"
   ],
   "metadata": {
    "collapsed": false,
    "pycharm": {
     "name": "#%%\n",
     "is_executing": false
    }
   }
  },
  {
   "cell_type": "code",
   "execution_count": 9,
   "outputs": [
    {
     "name": "stdout",
     "text": [
      "Accuracy score: 0.6332882273342354\n",
      "F1-Score:       0.7612334801762115\n",
      "Accuracy score: 0.638700947225981\n",
      "F1-Score:       0.7672188317349607\n",
      "Accuracy score: 0.6373477672530447\n",
      "F1-Score:       0.7665505226480837\n",
      "Accuracy score: 0.6373477672530447\n",
      "F1-Score:       0.7665505226480837\n",
      "Accuracy score: 0.6373477672530447\n",
      "F1-Score:       0.7665505226480837\n"
     ],
     "output_type": "stream"
    }
   ],
   "source": [
    "# run a logistic regression with the 13-feature pca dataset\n",
    "for c in [0.01, 0.1, 1.0, 10, 100]:\n",
    "    lr = LogisticRegression(C=c, random_state=2, solver='liblinear')\n",
    "    lr.fit(X_train_std_pca, y_train)\n",
    "    y_pred = lr.predict(X_test_std_pca)\n",
    "\n",
    "    print(f\"Accuracy score: {accuracy_score(y_test, y_pred)}\\n\"\n",
    "          f\"F1-Score:       {f1_score(y_test, y_pred)}\")"
   ],
   "metadata": {
    "collapsed": false,
    "pycharm": {
     "name": "#%%\n",
     "is_executing": false
    }
   }
  },
  {
   "cell_type": "code",
   "execution_count": 10,
   "outputs": [],
   "source": [
    "# using a PCA with 13 \"fake\" attributes doesn't achieve better results than simply using\n",
    "# our 13 top attributes as selected from the RandomForest. Therefore, we'll stick with those\n",
    "# as they're more easily explained. Next we'll try using the kernel trick to see if we can\n",
    "# improve classification by temporarily projecting data into a higher dimensional space"
   ],
   "metadata": {
    "collapsed": false,
    "pycharm": {
     "name": "#%%\n",
     "is_executing": false
    }
   }
  },
  {
   "cell_type": "code",
   "execution_count": 11,
   "outputs": [
    {
     "name": "stdout",
     "text": [
      "\n",
      "Kernel: poly\n",
      "Accuracy score: 0.6549391069012178\n",
      "F1-Score:       0.7811158798283262\n",
      "Accuracy score: 0.6535859269282814\n",
      "F1-Score:       0.7811965811965811\n",
      "Accuracy score: 0.6535859269282814\n",
      "F1-Score:       0.7811965811965811\n",
      "Accuracy score: 0.6535859269282814\n",
      "F1-Score:       0.7811965811965811\n",
      "Accuracy score: 0.6535859269282814\n",
      "F1-Score:       0.7811965811965811\n",
      "\n",
      "Kernel: rbf\n",
      "Accuracy score: 0.6549391069012178\n",
      "F1-Score:       0.7811158798283262\n",
      "Accuracy score: 0.6535859269282814\n",
      "F1-Score:       0.7811965811965811\n",
      "Accuracy score: 0.6535859269282814\n",
      "F1-Score:       0.7811965811965811\n",
      "Accuracy score: 0.6535859269282814\n",
      "F1-Score:       0.7811965811965811\n",
      "Accuracy score: 0.6535859269282814\n",
      "F1-Score:       0.7811965811965811\n",
      "\n",
      "Kernel: sigmoid\n",
      "Accuracy score: 0.6549391069012178\n",
      "F1-Score:       0.7811158798283262\n",
      "Accuracy score: 0.6535859269282814\n",
      "F1-Score:       0.7811965811965811\n",
      "Accuracy score: 0.6535859269282814\n",
      "F1-Score:       0.7811965811965811\n",
      "Accuracy score: 0.6535859269282814\n",
      "F1-Score:       0.7811965811965811\n",
      "Accuracy score: 0.6535859269282814\n",
      "F1-Score:       0.7811965811965811\n",
      "\n",
      "Kernel: cosine\n",
      "Accuracy score: 0.6549391069012178\n",
      "F1-Score:       0.7811158798283262\n",
      "Accuracy score: 0.6535859269282814\n",
      "F1-Score:       0.7811965811965811\n",
      "Accuracy score: 0.6535859269282814\n",
      "F1-Score:       0.7811965811965811\n",
      "Accuracy score: 0.6535859269282814\n",
      "F1-Score:       0.7811965811965811\n",
      "Accuracy score: 0.6535859269282814\n",
      "F1-Score:       0.7811965811965811\n",
      "\n",
      "Kernel: precomputed\n",
      "Accuracy score: 0.6549391069012178\n",
      "F1-Score:       0.7811158798283262\n",
      "Accuracy score: 0.6535859269282814\n",
      "F1-Score:       0.7811965811965811\n",
      "Accuracy score: 0.6535859269282814\n",
      "F1-Score:       0.7811965811965811\n",
      "Accuracy score: 0.6535859269282814\n",
      "F1-Score:       0.7811965811965811\n",
      "Accuracy score: 0.6535859269282814\n",
      "F1-Score:       0.7811965811965811\n"
     ],
     "output_type": "stream"
    }
   ],
   "source": [
    "# trying out kpca\n",
    "\n",
    "for k in ('poly', 'rbf', 'sigmoid', 'cosine', 'precomputed'):\n",
    "    print(f\"\\nKernel: {k}\")\n",
    "    kpca = KernelPCA(n_components=13, random_state=1, kernel='poly', gamma=1.0)\n",
    "    X_train_std_kpca = kpca.fit_transform(X_train_std)\n",
    "    X_test_std_kpca = kpca.transform(X_test_std)\n",
    "    \n",
    "    # run a logistic regression\n",
    "    for c in [0.01, 0.1, 1.0, 10, 100]:\n",
    "        lr = LogisticRegression(C=c, random_state=2, solver='liblinear')\n",
    "        lr.fit(X_train_std_kpca, y_train)\n",
    "        y_pred = lr.predict(X_test_std_kpca)\n",
    "    \n",
    "        print(f\"Accuracy score: {accuracy_score(y_test, y_pred)}\\n\"\n",
    "              f\"F1-Score:       {f1_score(y_test, y_pred)}\")"
   ],
   "metadata": {
    "collapsed": false,
    "pycharm": {
     "name": "#%%\n",
     "is_executing": false
    }
   }
  },
  {
   "cell_type": "code",
   "execution_count": 12,
   "outputs": [],
   "source": [
    "# It doesn't seem like the kernel trick with KPCA is very effective at improving our accuracy either.\n",
    "# Above is just a sample of the various hyperparameter combinations we attempted. It is our belief\n",
    "# that we will need to engineer additional features or implement deeper neural networks to improve \n",
    "# our classification accuracy"
   ],
   "metadata": {
    "collapsed": false,
    "pycharm": {
     "name": "#%%\n",
     "is_executing": false
    }
   }
  },
  {
   "cell_type": "code",
   "execution_count": 13,
   "outputs": [
    {
     "name": "stderr",
     "text": [
      "/Users/ted/Library/Caches/pypoetry/virtualenvs/njit-ml-scratch-l36YVstm-py3.7/lib/python3.7/site-packages/ta/trend.py:567: RuntimeWarning: invalid value encountered in double_scalars\n",
      "  dip[i] = 100 * (self._dip[i]/self._trs[i])\n",
      "/Users/ted/Library/Caches/pypoetry/virtualenvs/njit-ml-scratch-l36YVstm-py3.7/lib/python3.7/site-packages/ta/trend.py:571: RuntimeWarning: invalid value encountered in double_scalars\n",
      "  din[i] = 100 * (self._din[i]/self._trs[i])\n"
     ],
     "output_type": "stream"
    }
   ],
   "source": [
    "# Stocks are inherently a time-series prediction, so let's see if adding lag values to  various\n",
    "# metrics helps improve the prediction accuracy using a linear model at all\n",
    "\n",
    "lag_days = [1, 2, 3, 4, 5, 10, 20]\n",
    "\n",
    "# add lags is a convenience function I wrote to add trailing values to a list of metrics\n",
    "all_msft_data = pd.read_csv(f'../data/{train_ticker}.csv')\n",
    "technicals = StockTechnicals(all_msft_data)\n",
    "technicals.add_lags(metrics=top_features, days=lag_days)\n",
    "X = technicals.features\n",
    "y = technicals.future_sma_higher_than_current_price(26)\n",
    "\n",
    "# drop final 26 days which we don't have a y value\n",
    "y = y[~np.isnan(y)]\n",
    "X = X[:len(y)]"
   ],
   "metadata": {
    "collapsed": false,
    "pycharm": {
     "name": "#%%\n",
     "is_executing": false
    }
   }
  },
  {
   "cell_type": "code",
   "execution_count": 14,
   "outputs": [
    {
     "name": "stdout",
     "text": [
      "Accuracy score: 0.6603260869565217\n",
      "Accuracy score: 0.6698369565217391\n",
      "Accuracy score: 0.6766304347826086\n",
      "Accuracy score: 0.6698369565217391\n",
      "Accuracy score: 0.6589673913043478\n"
     ],
     "output_type": "stream"
    }
   ],
   "source": [
    "# limit to top features as determined by a RandomForest in feature-selection.ipnyb\n",
    "top_features = [\n",
    "    'trend_visual_ichimoku_b',\n",
    "    'volume_obv',\n",
    "    'volatility_kcw',\n",
    "    'volatility_atr',\n",
    "    'trend_mass_index',\n",
    "    'trend_kst_sig',\n",
    "    'volume_cmf',\n",
    "    'trend_adx',\n",
    "    'trend_macd_signal',\n",
    "    'volatility_bbw',\n",
    "    'trend_kst_diff',\n",
    "    'momentum_tsi',\n",
    "    'trend_macd_diff',\n",
    "]\n",
    "\n",
    "top_features.extend([f\"{feat}_{n}_day_lag\" for feat in top_features for n in lag_days])\n",
    "X_top = X[top_features]\n",
    "X_train, X_test, y_train, y_test = train_test_split(X_top, y, random_state=2, stratify=y)\n",
    "sc = StandardScaler()\n",
    "X_train_std = sc.fit_transform(X_train)\n",
    "X_test_std = sc.transform(X_test)\n",
    "\n",
    "# run a logistic regression\n",
    "for c in [0.01, 0.1, 1.0, 10, 100]:\n",
    "    lr = LogisticRegression(C=c, random_state=2, solver='liblinear')\n",
    "    lr.fit(X_train_std, y_train)\n",
    "    y_pred = lr.predict(X_test_std)\n",
    "\n",
    "    print(f\"Accuracy score: {accuracy_score(y_test, y_pred)}\")"
   ],
   "metadata": {
    "collapsed": false,
    "pycharm": {
     "name": "#%%\n",
     "is_executing": false
    }
   }
  },
  {
   "cell_type": "code",
   "execution_count": 15,
   "outputs": [],
   "source": [
    "# Even with lag variables it seems the data just aren't linearly separable.\n",
    "# Let's try a non-linear classifier like a multi-layer perceptron"
   ],
   "metadata": {
    "collapsed": false,
    "pycharm": {
     "name": "#%%\n",
     "is_executing": false
    }
   }
  },
  {
   "cell_type": "code",
   "execution_count": 16,
   "outputs": [
    {
     "name": "stdout",
     "text": [
      "Accuracy score: 0.9239130434782609\n",
      "Accuracy score: 0.936141304347826\n",
      "Accuracy score: 0.9307065217391305\n"
     ],
     "output_type": "stream"
    }
   ],
   "source": [
    "from sklearn.neural_network import MLPClassifier\n",
    "\n",
    "for a in [0.001, 0.01, 0.1]:\n",
    "    mlp = MLPClassifier(\n",
    "        hidden_layer_sizes=(39, 39), \n",
    "        solver='lbfgs', \n",
    "        max_iter=5000, \n",
    "        random_state=2, \n",
    "        alpha=a, \n",
    "        activation='relu')\n",
    "    mlp.fit(X_train_std, y_train)\n",
    "    y_pred = mlp.predict(X_test_std)\n",
    "\n",
    "    print(f\"Accuracy score: {accuracy_score(y_test, y_pred)}\")"
   ],
   "metadata": {
    "collapsed": false,
    "pycharm": {
     "name": "#%%\n",
     "is_executing": false
    }
   }
  },
  {
   "cell_type": "code",
   "execution_count": 17,
   "outputs": [],
   "source": [
    "# There are some early signs of optimism using the MLP classifier with\n",
    "# predictions as high as 93.6% accuracy with an alpha of 0.01. 39 units\n",
    "# two hidden layers was selected somewhat arbitrarily as 3x13 (# of impt features)\n",
    "# Other combinations - larger and smaller - were only nominally different and\n",
    "# often worse, so this is merely to demonstrate a more \"successful\" case. \n",
    "# Let's try some other hyperparameter combinations for fun"
   ],
   "metadata": {
    "collapsed": false,
    "pycharm": {
     "name": "#%%\n",
     "is_executing": false
    }
   }
  },
  {
   "cell_type": "code",
   "execution_count": 18,
   "outputs": [
    {
     "name": "stdout",
     "text": [
      "Accuracy score: 0.9008152173913043\n",
      "Accuracy score: 0.9184782608695652\n",
      "Accuracy score: 0.9307065217391305\n",
      "Accuracy score: 0.907608695652174\n",
      "Accuracy score: 0.9184782608695652\n",
      "Accuracy score: 0.6345108695652174\n"
     ],
     "output_type": "stream"
    },
    {
     "name": "stderr",
     "text": [
      "/Users/ted/Library/Caches/pypoetry/virtualenvs/njit-ml-scratch-l36YVstm-py3.7/lib/python3.7/site-packages/sklearn/neural_network/_multilayer_perceptron.py:571: ConvergenceWarning: Stochastic Optimizer: Maximum iterations (1000) reached and the optimization hasn't converged yet.\n",
      "  % self.max_iter, ConvergenceWarning)\n"
     ],
     "output_type": "stream"
    }
   ],
   "source": [
    "for solver in ['adam', 'sgd']:\n",
    "    for activation in ['relu', 'tanh', 'logistic']:\n",
    "        mlp = MLPClassifier(\n",
    "            hidden_layer_sizes=(39, 39), \n",
    "            solver=solver,  \n",
    "            max_iter=1000, \n",
    "            random_state=2, \n",
    "            alpha=0.01, \n",
    "            activation=activation,\n",
    "            learning_rate='adaptive')\n",
    "        mlp.fit(X_train_std, y_train)\n",
    "        y_pred = mlp.predict(X_test_std)\n",
    "\n",
    "        print(f\"Accuracy score: {accuracy_score(y_test, y_pred)}\")\n",
    "        "
   ],
   "metadata": {
    "collapsed": false,
    "pycharm": {
     "name": "#%%\n",
     "is_executing": false
    }
   }
  },
  {
   "cell_type": "code",
   "execution_count": 19,
   "outputs": [],
   "source": [
    "# Nothing in the above supercedes our initial MLP (this was an intentional demonstration)\n",
    "# Perhaps there's a chance we can predict the general \"trend\" of a stock somewhat accurately \n",
    "# with an MLP classifier on a handful of technical indicators along with some lag values"
   ],
   "metadata": {
    "collapsed": false,
    "pycharm": {
     "name": "#%%\n",
     "is_executing": false
    }
   }
  }
 ],
 "metadata": {
  "kernelspec": {
   "display_name": "Python 3",
   "language": "python",
   "name": "python3"
  },
  "language_info": {
   "codemirror_mode": {
    "name": "ipython",
    "version": 2
   },
   "file_extension": ".py",
   "mimetype": "text/x-python",
   "name": "python",
   "nbconvert_exporter": "python",
   "pygments_lexer": "ipython2",
   "version": "2.7.6"
  },
  "pycharm": {
   "stem_cell": {
    "cell_type": "raw",
    "source": [],
    "metadata": {
     "collapsed": false
    }
   }
  }
 },
 "nbformat": 4,
 "nbformat_minor": 0
}